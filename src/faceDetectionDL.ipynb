{
  "cells": [
    {
      "cell_type": "markdown",
      "metadata": {
        "colab_type": "text",
        "id": "view-in-github"
      },
      "source": [
        "<a href=\"https://colab.research.google.com/github/GabrielCostaDeOliveira/faceDetectionTraining/blob/main/faceDetectionDL.ipynb\" target=\"_parent\"><img src=\"https://colab.research.google.com/assets/colab-badge.svg\" alt=\"Open In Colab\"/></a>"
      ]
    },
    {
      "cell_type": "code",
      "execution_count": 1,
      "metadata": {
        "id": "qs9qtf5OpDGy"
      },
      "outputs": [
        {
          "name": "stderr",
          "output_type": "stream",
          "text": [
            "/home/thss/prog/aulas/ml/faceDetectionTraining/.venv/lib/python3.10/site-packages/tqdm/auto.py:22: TqdmWarning: IProgress not found. Please update jupyter and ipywidgets. See https://ipywidgets.readthedocs.io/en/stable/user_install.html\n",
            "  from .autonotebook import tqdm as notebook_tqdm\n"
          ]
        }
      ],
      "source": [
        "import os\n",
        "\n",
        "from fastai.vision.all import *\n",
        "import numpy as np"
      ]
    },
    {
      "cell_type": "code",
      "execution_count": 2,
      "metadata": {},
      "outputs": [
        {
          "data": {
            "text/plain": [
              "Path('.')"
            ]
          },
          "execution_count": 2,
          "metadata": {},
          "output_type": "execute_result"
        }
      ],
      "source": [
        "path = Path(os.path.join(os.getcwd(), '..', 'dataset'))\n",
        "Path.BASE_PATH = path\n",
        "path"
      ]
    },
    {
      "cell_type": "code",
      "execution_count": null,
      "metadata": {},
      "outputs": [],
      "source": [
        "path.ls()"
      ]
    },
    {
      "cell_type": "markdown",
      "metadata": {},
      "source": [
        "Verificando se as imagens não foram corrompidas"
      ]
    },
    {
      "cell_type": "code",
      "execution_count": 6,
      "metadata": {},
      "outputs": [
        {
          "data": {
            "text/plain": [
              "(#0) []"
            ]
          },
          "execution_count": 6,
          "metadata": {},
          "output_type": "execute_result"
        }
      ],
      "source": [
        "failed = verify_images(get_image_files(path))\n",
        "failed"
      ]
    },
    {
      "cell_type": "markdown",
      "metadata": {},
      "source": [
        "Eliminando as imagens que falharam"
      ]
    },
    {
      "cell_type": "code",
      "execution_count": 8,
      "metadata": {},
      "outputs": [
        {
          "data": {
            "text/plain": [
              "(#0) []"
            ]
          },
          "execution_count": 8,
          "metadata": {},
          "output_type": "execute_result"
        }
      ],
      "source": [
        "failed.map(Path.unlink)"
      ]
    },
    {
      "cell_type": "markdown",
      "metadata": {},
      "source": [
        "todo"
      ]
    },
    {
      "cell_type": "code",
      "execution_count": 3,
      "metadata": {},
      "outputs": [],
      "source": [
        "def img2bbox(path):\n",
        "    return Path(str(path).rsplit('.', 1)[0] + '.txt')"
      ]
    },
    {
      "cell_type": "code",
      "execution_count": 4,
      "metadata": {},
      "outputs": [],
      "source": [
        "def get_y(path: str):\n",
        "    bbox = np.genfromtxt(img2bbox(path), dtype=np.int32)\n",
        "    return tensor(bbox[:4])"
      ]
    },
    {
      "cell_type": "code",
      "execution_count": 5,
      "metadata": {},
      "outputs": [],
      "source": [
        "db = DataBlock(\n",
        "    blocks=(ImageBlock, BBoxBlock),\n",
        "    get_items=get_image_files,\n",
        "    get_y=get_y,\n",
        "    splitter=FuncSplitter(lambda o: o.parent.parent.parent.name.endswith('val')),\n",
        "    item_tfms=Resize(128),\n",
        ")"
      ]
    },
    {
      "cell_type": "code",
      "execution_count": 6,
      "metadata": {},
      "outputs": [
        {
          "ename": "TypeError",
          "evalue": "can't convert np.ndarray of type numpy.object_. The only supported types are: float64, float32, float16, complex64, complex128, int64, int32, int16, int8, uint8, and bool.",
          "output_type": "error",
          "traceback": [
            "\u001b[0;31m---------------------------------------------------------------------------\u001b[0m",
            "\u001b[0;31mTypeError\u001b[0m                                 Traceback (most recent call last)",
            "\u001b[1;32m/home/thss/prog/aulas/ml/faceDetectionTraining/src/faceDetectionDL.ipynb Cell 13\u001b[0m in \u001b[0;36m<cell line: 1>\u001b[0;34m()\u001b[0m\n\u001b[0;32m----> <a href='vscode-notebook-cell:/home/thss/prog/aulas/ml/faceDetectionTraining/src/faceDetectionDL.ipynb#X16sZmlsZQ%3D%3D?line=0'>1</a>\u001b[0m dls \u001b[39m=\u001b[39m db\u001b[39m.\u001b[39;49mdataloaders(path)\n\u001b[1;32m      <a href='vscode-notebook-cell:/home/thss/prog/aulas/ml/faceDetectionTraining/src/faceDetectionDL.ipynb#X16sZmlsZQ%3D%3D?line=1'>2</a>\u001b[0m dls\u001b[39m.\u001b[39mshow_batch(max_n\u001b[39m=\u001b[39m\u001b[39m6\u001b[39m, figsize\u001b[39m=\u001b[39m(\u001b[39m8\u001b[39m, \u001b[39m6\u001b[39m))\n",
            "File \u001b[0;32m~/prog/aulas/ml/faceDetectionTraining/.venv/lib/python3.10/site-packages/fastai/data/block.py:155\u001b[0m, in \u001b[0;36mDataBlock.dataloaders\u001b[0;34m(self, source, path, verbose, **kwargs)\u001b[0m\n\u001b[1;32m    149\u001b[0m \u001b[39mdef\u001b[39;00m \u001b[39mdataloaders\u001b[39m(\u001b[39mself\u001b[39m, \n\u001b[1;32m    150\u001b[0m     source, \u001b[39m# The data source\u001b[39;00m\n\u001b[1;32m    151\u001b[0m     path:\u001b[39mstr\u001b[39m\u001b[39m=\u001b[39m\u001b[39m'\u001b[39m\u001b[39m.\u001b[39m\u001b[39m'\u001b[39m, \u001b[39m# Data source and default `Learner` path \u001b[39;00m\n\u001b[1;32m    152\u001b[0m     verbose:\u001b[39mbool\u001b[39m\u001b[39m=\u001b[39m\u001b[39mFalse\u001b[39;00m, \u001b[39m# Show verbose messages\u001b[39;00m\n\u001b[1;32m    153\u001b[0m     \u001b[39m*\u001b[39m\u001b[39m*\u001b[39mkwargs\n\u001b[1;32m    154\u001b[0m ) \u001b[39m-\u001b[39m\u001b[39m>\u001b[39m DataLoaders:\n\u001b[0;32m--> 155\u001b[0m     dsets \u001b[39m=\u001b[39m \u001b[39mself\u001b[39;49m\u001b[39m.\u001b[39;49mdatasets(source, verbose\u001b[39m=\u001b[39;49mverbose)\n\u001b[1;32m    156\u001b[0m     kwargs \u001b[39m=\u001b[39m {\u001b[39m*\u001b[39m\u001b[39m*\u001b[39m\u001b[39mself\u001b[39m\u001b[39m.\u001b[39mdls_kwargs, \u001b[39m*\u001b[39m\u001b[39m*\u001b[39mkwargs, \u001b[39m'\u001b[39m\u001b[39mverbose\u001b[39m\u001b[39m'\u001b[39m: verbose}\n\u001b[1;32m    157\u001b[0m     \u001b[39mreturn\u001b[39;00m dsets\u001b[39m.\u001b[39mdataloaders(path\u001b[39m=\u001b[39mpath, after_item\u001b[39m=\u001b[39m\u001b[39mself\u001b[39m\u001b[39m.\u001b[39mitem_tfms, after_batch\u001b[39m=\u001b[39m\u001b[39mself\u001b[39m\u001b[39m.\u001b[39mbatch_tfms, \u001b[39m*\u001b[39m\u001b[39m*\u001b[39mkwargs)\n",
            "File \u001b[0;32m~/prog/aulas/ml/faceDetectionTraining/.venv/lib/python3.10/site-packages/fastai/data/block.py:147\u001b[0m, in \u001b[0;36mDataBlock.datasets\u001b[0;34m(self, source, verbose)\u001b[0m\n\u001b[1;32m    145\u001b[0m splits \u001b[39m=\u001b[39m (\u001b[39mself\u001b[39m\u001b[39m.\u001b[39msplitter \u001b[39mor\u001b[39;00m RandomSplitter())(items)\n\u001b[1;32m    146\u001b[0m pv(\u001b[39mf\u001b[39m\u001b[39m\"\u001b[39m\u001b[39m{\u001b[39;00m\u001b[39mlen\u001b[39m(splits)\u001b[39m}\u001b[39;00m\u001b[39m datasets of sizes \u001b[39m\u001b[39m{\u001b[39;00m\u001b[39m'\u001b[39m\u001b[39m,\u001b[39m\u001b[39m'\u001b[39m\u001b[39m.\u001b[39mjoin([\u001b[39mstr\u001b[39m(\u001b[39mlen\u001b[39m(s)) \u001b[39mfor\u001b[39;00m s \u001b[39min\u001b[39;00m splits])\u001b[39m}\u001b[39;00m\u001b[39m\"\u001b[39m, verbose)\n\u001b[0;32m--> 147\u001b[0m \u001b[39mreturn\u001b[39;00m Datasets(items, tfms\u001b[39m=\u001b[39;49m\u001b[39mself\u001b[39;49m\u001b[39m.\u001b[39;49m_combine_type_tfms(), splits\u001b[39m=\u001b[39;49msplits, dl_type\u001b[39m=\u001b[39;49m\u001b[39mself\u001b[39;49m\u001b[39m.\u001b[39;49mdl_type, n_inp\u001b[39m=\u001b[39;49m\u001b[39mself\u001b[39;49m\u001b[39m.\u001b[39;49mn_inp, verbose\u001b[39m=\u001b[39;49mverbose)\n",
            "File \u001b[0;32m~/prog/aulas/ml/faceDetectionTraining/.venv/lib/python3.10/site-packages/fastai/data/core.py:451\u001b[0m, in \u001b[0;36mDatasets.__init__\u001b[0;34m(self, items, tfms, tls, n_inp, dl_type, **kwargs)\u001b[0m\n\u001b[1;32m    442\u001b[0m \u001b[39mdef\u001b[39;00m \u001b[39m__init__\u001b[39m(\u001b[39mself\u001b[39m, \n\u001b[1;32m    443\u001b[0m     items:\u001b[39mlist\u001b[39m\u001b[39m=\u001b[39m\u001b[39mNone\u001b[39;00m, \u001b[39m# List of items to create `Datasets`\u001b[39;00m\n\u001b[1;32m    444\u001b[0m     tfms:\u001b[39mlist\u001b[39m\u001b[39m|\u001b[39mPipeline\u001b[39m=\u001b[39m\u001b[39mNone\u001b[39;00m, \u001b[39m# List of `Transform`(s) or `Pipeline` to apply\u001b[39;00m\n\u001b[0;32m   (...)\u001b[0m\n\u001b[1;32m    448\u001b[0m     \u001b[39m*\u001b[39m\u001b[39m*\u001b[39mkwargs\n\u001b[1;32m    449\u001b[0m ):\n\u001b[1;32m    450\u001b[0m     \u001b[39msuper\u001b[39m()\u001b[39m.\u001b[39m\u001b[39m__init__\u001b[39m(dl_type\u001b[39m=\u001b[39mdl_type)\n\u001b[0;32m--> 451\u001b[0m     \u001b[39mself\u001b[39m\u001b[39m.\u001b[39mtls \u001b[39m=\u001b[39m L(tls \u001b[39mif\u001b[39;00m tls \u001b[39melse\u001b[39;00m [TfmdLists(items, t, \u001b[39m*\u001b[39m\u001b[39m*\u001b[39mkwargs) \u001b[39mfor\u001b[39;00m t \u001b[39min\u001b[39;00m L(ifnone(tfms,[\u001b[39mNone\u001b[39;00m]))])\n\u001b[1;32m    452\u001b[0m     \u001b[39mself\u001b[39m\u001b[39m.\u001b[39mn_inp \u001b[39m=\u001b[39m ifnone(n_inp, \u001b[39mmax\u001b[39m(\u001b[39m1\u001b[39m, \u001b[39mlen\u001b[39m(\u001b[39mself\u001b[39m\u001b[39m.\u001b[39mtls)\u001b[39m-\u001b[39m\u001b[39m1\u001b[39m))\n",
            "File \u001b[0;32m~/prog/aulas/ml/faceDetectionTraining/.venv/lib/python3.10/site-packages/fastai/data/core.py:451\u001b[0m, in \u001b[0;36m<listcomp>\u001b[0;34m(.0)\u001b[0m\n\u001b[1;32m    442\u001b[0m \u001b[39mdef\u001b[39;00m \u001b[39m__init__\u001b[39m(\u001b[39mself\u001b[39m, \n\u001b[1;32m    443\u001b[0m     items:\u001b[39mlist\u001b[39m\u001b[39m=\u001b[39m\u001b[39mNone\u001b[39;00m, \u001b[39m# List of items to create `Datasets`\u001b[39;00m\n\u001b[1;32m    444\u001b[0m     tfms:\u001b[39mlist\u001b[39m\u001b[39m|\u001b[39mPipeline\u001b[39m=\u001b[39m\u001b[39mNone\u001b[39;00m, \u001b[39m# List of `Transform`(s) or `Pipeline` to apply\u001b[39;00m\n\u001b[0;32m   (...)\u001b[0m\n\u001b[1;32m    448\u001b[0m     \u001b[39m*\u001b[39m\u001b[39m*\u001b[39mkwargs\n\u001b[1;32m    449\u001b[0m ):\n\u001b[1;32m    450\u001b[0m     \u001b[39msuper\u001b[39m()\u001b[39m.\u001b[39m\u001b[39m__init__\u001b[39m(dl_type\u001b[39m=\u001b[39mdl_type)\n\u001b[0;32m--> 451\u001b[0m     \u001b[39mself\u001b[39m\u001b[39m.\u001b[39mtls \u001b[39m=\u001b[39m L(tls \u001b[39mif\u001b[39;00m tls \u001b[39melse\u001b[39;00m [TfmdLists(items, t, \u001b[39m*\u001b[39;49m\u001b[39m*\u001b[39;49mkwargs) \u001b[39mfor\u001b[39;00m t \u001b[39min\u001b[39;00m L(ifnone(tfms,[\u001b[39mNone\u001b[39;00m]))])\n\u001b[1;32m    452\u001b[0m     \u001b[39mself\u001b[39m\u001b[39m.\u001b[39mn_inp \u001b[39m=\u001b[39m ifnone(n_inp, \u001b[39mmax\u001b[39m(\u001b[39m1\u001b[39m, \u001b[39mlen\u001b[39m(\u001b[39mself\u001b[39m\u001b[39m.\u001b[39mtls)\u001b[39m-\u001b[39m\u001b[39m1\u001b[39m))\n",
            "File \u001b[0;32m~/prog/aulas/ml/faceDetectionTraining/.venv/lib/python3.10/site-packages/fastcore/foundation.py:98\u001b[0m, in \u001b[0;36m_L_Meta.__call__\u001b[0;34m(cls, x, *args, **kwargs)\u001b[0m\n\u001b[1;32m     96\u001b[0m \u001b[39mdef\u001b[39;00m \u001b[39m__call__\u001b[39m(\u001b[39mcls\u001b[39m, x\u001b[39m=\u001b[39m\u001b[39mNone\u001b[39;00m, \u001b[39m*\u001b[39margs, \u001b[39m*\u001b[39m\u001b[39m*\u001b[39mkwargs):\n\u001b[1;32m     97\u001b[0m     \u001b[39mif\u001b[39;00m \u001b[39mnot\u001b[39;00m args \u001b[39mand\u001b[39;00m \u001b[39mnot\u001b[39;00m kwargs \u001b[39mand\u001b[39;00m x \u001b[39mis\u001b[39;00m \u001b[39mnot\u001b[39;00m \u001b[39mNone\u001b[39;00m \u001b[39mand\u001b[39;00m \u001b[39misinstance\u001b[39m(x,\u001b[39mcls\u001b[39m): \u001b[39mreturn\u001b[39;00m x\n\u001b[0;32m---> 98\u001b[0m     \u001b[39mreturn\u001b[39;00m \u001b[39msuper\u001b[39;49m()\u001b[39m.\u001b[39;49m\u001b[39m__call__\u001b[39;49m(x, \u001b[39m*\u001b[39;49margs, \u001b[39m*\u001b[39;49m\u001b[39m*\u001b[39;49mkwargs)\n",
            "File \u001b[0;32m~/prog/aulas/ml/faceDetectionTraining/.venv/lib/python3.10/site-packages/fastai/data/core.py:365\u001b[0m, in \u001b[0;36mTfmdLists.__init__\u001b[0;34m(self, items, tfms, use_list, do_setup, split_idx, train_setup, splits, types, verbose, dl_type)\u001b[0m\n\u001b[1;32m    363\u001b[0m \u001b[39mif\u001b[39;00m do_setup:\n\u001b[1;32m    364\u001b[0m     pv(\u001b[39mf\u001b[39m\u001b[39m\"\u001b[39m\u001b[39mSetting up \u001b[39m\u001b[39m{\u001b[39;00m\u001b[39mself\u001b[39m\u001b[39m.\u001b[39mtfms\u001b[39m}\u001b[39;00m\u001b[39m\"\u001b[39m, verbose)\n\u001b[0;32m--> 365\u001b[0m     \u001b[39mself\u001b[39;49m\u001b[39m.\u001b[39;49msetup(train_setup\u001b[39m=\u001b[39;49mtrain_setup)\n",
            "File \u001b[0;32m~/prog/aulas/ml/faceDetectionTraining/.venv/lib/python3.10/site-packages/fastai/data/core.py:392\u001b[0m, in \u001b[0;36mTfmdLists.setup\u001b[0;34m(self, train_setup)\u001b[0m\n\u001b[1;32m    390\u001b[0m     \u001b[39mfor\u001b[39;00m f \u001b[39min\u001b[39;00m \u001b[39mself\u001b[39m\u001b[39m.\u001b[39mtfms\u001b[39m.\u001b[39mfs:\n\u001b[1;32m    391\u001b[0m         \u001b[39mself\u001b[39m\u001b[39m.\u001b[39mtypes\u001b[39m.\u001b[39mappend(\u001b[39mgetattr\u001b[39m(f, \u001b[39m'\u001b[39m\u001b[39minput_types\u001b[39m\u001b[39m'\u001b[39m, \u001b[39mtype\u001b[39m(x)))\n\u001b[0;32m--> 392\u001b[0m         x \u001b[39m=\u001b[39m f(x)\n\u001b[1;32m    393\u001b[0m     \u001b[39mself\u001b[39m\u001b[39m.\u001b[39mtypes\u001b[39m.\u001b[39mappend(\u001b[39mtype\u001b[39m(x))\n\u001b[1;32m    394\u001b[0m types \u001b[39m=\u001b[39m L(t \u001b[39mif\u001b[39;00m is_listy(t) \u001b[39melse\u001b[39;00m [t] \u001b[39mfor\u001b[39;00m t \u001b[39min\u001b[39;00m \u001b[39mself\u001b[39m\u001b[39m.\u001b[39mtypes)\u001b[39m.\u001b[39mconcat()\u001b[39m.\u001b[39munique()\n",
            "File \u001b[0;32m~/prog/aulas/ml/faceDetectionTraining/.venv/lib/python3.10/site-packages/fastcore/transform.py:81\u001b[0m, in \u001b[0;36mTransform.__call__\u001b[0;34m(self, x, **kwargs)\u001b[0m\n\u001b[0;32m---> 81\u001b[0m \u001b[39mdef\u001b[39;00m \u001b[39m__call__\u001b[39m(\u001b[39mself\u001b[39m, x, \u001b[39m*\u001b[39m\u001b[39m*\u001b[39mkwargs): \u001b[39mreturn\u001b[39;00m \u001b[39mself\u001b[39;49m\u001b[39m.\u001b[39;49m_call(\u001b[39m'\u001b[39;49m\u001b[39mencodes\u001b[39;49m\u001b[39m'\u001b[39;49m, x, \u001b[39m*\u001b[39;49m\u001b[39m*\u001b[39;49mkwargs)\n",
            "File \u001b[0;32m~/prog/aulas/ml/faceDetectionTraining/.venv/lib/python3.10/site-packages/fastcore/transform.py:91\u001b[0m, in \u001b[0;36mTransform._call\u001b[0;34m(self, fn, x, split_idx, **kwargs)\u001b[0m\n\u001b[1;32m     89\u001b[0m \u001b[39mdef\u001b[39;00m \u001b[39m_call\u001b[39m(\u001b[39mself\u001b[39m, fn, x, split_idx\u001b[39m=\u001b[39m\u001b[39mNone\u001b[39;00m, \u001b[39m*\u001b[39m\u001b[39m*\u001b[39mkwargs):\n\u001b[1;32m     90\u001b[0m     \u001b[39mif\u001b[39;00m split_idx\u001b[39m!=\u001b[39m\u001b[39mself\u001b[39m\u001b[39m.\u001b[39msplit_idx \u001b[39mand\u001b[39;00m \u001b[39mself\u001b[39m\u001b[39m.\u001b[39msplit_idx \u001b[39mis\u001b[39;00m \u001b[39mnot\u001b[39;00m \u001b[39mNone\u001b[39;00m: \u001b[39mreturn\u001b[39;00m x\n\u001b[0;32m---> 91\u001b[0m     \u001b[39mreturn\u001b[39;00m \u001b[39mself\u001b[39;49m\u001b[39m.\u001b[39;49m_do_call(\u001b[39mgetattr\u001b[39;49m(\u001b[39mself\u001b[39;49m, fn), x, \u001b[39m*\u001b[39;49m\u001b[39m*\u001b[39;49mkwargs)\n",
            "File \u001b[0;32m~/prog/aulas/ml/faceDetectionTraining/.venv/lib/python3.10/site-packages/fastcore/transform.py:97\u001b[0m, in \u001b[0;36mTransform._do_call\u001b[0;34m(self, f, x, **kwargs)\u001b[0m\n\u001b[1;32m     95\u001b[0m     \u001b[39mif\u001b[39;00m f \u001b[39mis\u001b[39;00m \u001b[39mNone\u001b[39;00m: \u001b[39mreturn\u001b[39;00m x\n\u001b[1;32m     96\u001b[0m     ret \u001b[39m=\u001b[39m f\u001b[39m.\u001b[39mreturns(x) \u001b[39mif\u001b[39;00m \u001b[39mhasattr\u001b[39m(f,\u001b[39m'\u001b[39m\u001b[39mreturns\u001b[39m\u001b[39m'\u001b[39m) \u001b[39melse\u001b[39;00m \u001b[39mNone\u001b[39;00m\n\u001b[0;32m---> 97\u001b[0m     \u001b[39mreturn\u001b[39;00m retain_type(f(x, \u001b[39m*\u001b[39;49m\u001b[39m*\u001b[39;49mkwargs), x, ret)\n\u001b[1;32m     98\u001b[0m res \u001b[39m=\u001b[39m \u001b[39mtuple\u001b[39m(\u001b[39mself\u001b[39m\u001b[39m.\u001b[39m_do_call(f, x_, \u001b[39m*\u001b[39m\u001b[39m*\u001b[39mkwargs) \u001b[39mfor\u001b[39;00m x_ \u001b[39min\u001b[39;00m x)\n\u001b[1;32m     99\u001b[0m \u001b[39mreturn\u001b[39;00m retain_type(res, x)\n",
            "File \u001b[0;32m~/prog/aulas/ml/faceDetectionTraining/.venv/lib/python3.10/site-packages/fastcore/dispatch.py:120\u001b[0m, in \u001b[0;36mTypeDispatch.__call__\u001b[0;34m(self, *args, **kwargs)\u001b[0m\n\u001b[1;32m    118\u001b[0m \u001b[39melif\u001b[39;00m \u001b[39mself\u001b[39m\u001b[39m.\u001b[39minst \u001b[39mis\u001b[39;00m \u001b[39mnot\u001b[39;00m \u001b[39mNone\u001b[39;00m: f \u001b[39m=\u001b[39m MethodType(f, \u001b[39mself\u001b[39m\u001b[39m.\u001b[39minst)\n\u001b[1;32m    119\u001b[0m \u001b[39melif\u001b[39;00m \u001b[39mself\u001b[39m\u001b[39m.\u001b[39mowner \u001b[39mis\u001b[39;00m \u001b[39mnot\u001b[39;00m \u001b[39mNone\u001b[39;00m: f \u001b[39m=\u001b[39m MethodType(f, \u001b[39mself\u001b[39m\u001b[39m.\u001b[39mowner)\n\u001b[0;32m--> 120\u001b[0m \u001b[39mreturn\u001b[39;00m f(\u001b[39m*\u001b[39;49margs, \u001b[39m*\u001b[39;49m\u001b[39m*\u001b[39;49mkwargs)\n",
            "File \u001b[0;32m~/prog/aulas/ml/faceDetectionTraining/.venv/lib/python3.10/site-packages/fastai/vision/core.py:212\u001b[0m, in \u001b[0;36mTensorBBox.create\u001b[0;34m(cls, x, img_size)\u001b[0m\n\u001b[1;32m    211\u001b[0m \u001b[39m@classmethod\u001b[39m\n\u001b[0;32m--> 212\u001b[0m \u001b[39mdef\u001b[39;00m \u001b[39mcreate\u001b[39m(\u001b[39mcls\u001b[39m, x, img_size\u001b[39m=\u001b[39m\u001b[39mNone\u001b[39;00m)\u001b[39m-\u001b[39m\u001b[39m>\u001b[39m\u001b[39mNone\u001b[39;00m: \u001b[39mreturn\u001b[39;00m \u001b[39mcls\u001b[39m(tensor(x)\u001b[39m.\u001b[39mview(\u001b[39m-\u001b[39m\u001b[39m1\u001b[39m, \u001b[39m4\u001b[39m)\u001b[39m.\u001b[39mfloat(), img_size\u001b[39m=\u001b[39mimg_size)\n",
            "File \u001b[0;32m~/prog/aulas/ml/faceDetectionTraining/.venv/lib/python3.10/site-packages/fastai/torch_core.py:152\u001b[0m, in \u001b[0;36mtensor\u001b[0;34m(x, *rest, **kwargs)\u001b[0m\n\u001b[1;32m    144\u001b[0m     \u001b[39mif\u001b[39;00m \u001b[39mlen\u001b[39m(rest): x \u001b[39m=\u001b[39m (x,)\u001b[39m+\u001b[39mrest\n\u001b[1;32m    145\u001b[0m     \u001b[39m# There was a Pytorch bug in dataloader using num_workers>0. Haven't confirmed if fixed\u001b[39;00m\n\u001b[1;32m    146\u001b[0m     \u001b[39m# if isinstance(x, (tuple,list)) and len(x)==0: return tensor(0)\u001b[39;00m\n\u001b[1;32m    147\u001b[0m     res \u001b[39m=\u001b[39m (x \u001b[39mif\u001b[39;00m \u001b[39misinstance\u001b[39m(x, Tensor)\n\u001b[1;32m    148\u001b[0m            \u001b[39melse\u001b[39;00m torch\u001b[39m.\u001b[39mtensor(x, \u001b[39m*\u001b[39m\u001b[39m*\u001b[39mkwargs) \u001b[39mif\u001b[39;00m \u001b[39misinstance\u001b[39m(x, (\u001b[39mtuple\u001b[39m,\u001b[39mlist\u001b[39m))\n\u001b[1;32m    149\u001b[0m            \u001b[39melse\u001b[39;00m _array2tensor(x) \u001b[39mif\u001b[39;00m \u001b[39misinstance\u001b[39m(x, ndarray)\n\u001b[1;32m    150\u001b[0m            \u001b[39melse\u001b[39;00m as_tensor(x\u001b[39m.\u001b[39mvalues, \u001b[39m*\u001b[39m\u001b[39m*\u001b[39mkwargs) \u001b[39mif\u001b[39;00m \u001b[39misinstance\u001b[39m(x, (pd\u001b[39m.\u001b[39mSeries, pd\u001b[39m.\u001b[39mDataFrame))\n\u001b[1;32m    151\u001b[0m \u001b[39m#            else as_tensor(array(x, **kwargs)) if hasattr(x, '__array__') or is_iter(x)\u001b[39;00m\n\u001b[0;32m--> 152\u001b[0m            \u001b[39melse\u001b[39;00m _array2tensor(array(x), \u001b[39m*\u001b[39;49m\u001b[39m*\u001b[39;49mkwargs))\n\u001b[1;32m    153\u001b[0m     \u001b[39mif\u001b[39;00m res\u001b[39m.\u001b[39mdtype \u001b[39mis\u001b[39;00m torch\u001b[39m.\u001b[39mfloat64: \u001b[39mreturn\u001b[39;00m res\u001b[39m.\u001b[39mfloat()\n\u001b[1;32m    154\u001b[0m     \u001b[39mreturn\u001b[39;00m res\n",
            "File \u001b[0;32m~/prog/aulas/ml/faceDetectionTraining/.venv/lib/python3.10/site-packages/fastai/torch_core.py:138\u001b[0m, in \u001b[0;36m_array2tensor\u001b[0;34m(x)\u001b[0m\n\u001b[1;32m    136\u001b[0m \u001b[39mif\u001b[39;00m sys\u001b[39m.\u001b[39mplatform \u001b[39m==\u001b[39m \u001b[39m\"\u001b[39m\u001b[39mwin32\u001b[39m\u001b[39m\"\u001b[39m:\n\u001b[1;32m    137\u001b[0m     \u001b[39mif\u001b[39;00m x\u001b[39m.\u001b[39mdtype\u001b[39m==\u001b[39mnp\u001b[39m.\u001b[39mint: x \u001b[39m=\u001b[39m x\u001b[39m.\u001b[39mastype(np\u001b[39m.\u001b[39mint64)\n\u001b[0;32m--> 138\u001b[0m \u001b[39mreturn\u001b[39;00m torch\u001b[39m.\u001b[39;49mfrom_numpy(x)\n",
            "\u001b[0;31mTypeError\u001b[0m: can't convert np.ndarray of type numpy.object_. The only supported types are: float64, float32, float16, complex64, complex128, int64, int32, int16, int8, uint8, and bool."
          ]
        }
      ],
      "source": [
        "dls = db.dataloaders(path)\n",
        "dls.show_batch(max_n=6, figsize=(8, 6))"
      ]
    },
    {
      "cell_type": "code",
      "execution_count": null,
      "metadata": {},
      "outputs": [],
      "source": []
    }
  ],
  "metadata": {
    "colab": {
      "authorship_tag": "ABX9TyO4x/d97rZR27gZxQWdNBme",
      "include_colab_link": true,
      "name": "Untitled5.ipynb",
      "provenance": []
    },
    "kernelspec": {
      "display_name": "Python 3.10.4 ('.venv': venv)",
      "language": "python",
      "name": "python3"
    },
    "language_info": {
      "codemirror_mode": {
        "name": "ipython",
        "version": 3
      },
      "file_extension": ".py",
      "mimetype": "text/x-python",
      "name": "python",
      "nbconvert_exporter": "python",
      "pygments_lexer": "ipython3",
      "version": "3.10.4"
    },
    "vscode": {
      "interpreter": {
        "hash": "10922f6768f4ffb1ac59cbab3e77ac80c090c95567586bbbe07724e046ac8418"
      }
    }
  },
  "nbformat": 4,
  "nbformat_minor": 0
}
